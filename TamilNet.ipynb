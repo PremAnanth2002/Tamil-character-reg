{
  "cells": [
    {
      "cell_type": "code",
      "execution_count": 2,
      "metadata": {
        "id": "h-QEprC6DU6m"
      },
      "outputs": [],
      "source": [
        "from PIL import Image, ImageOps, ImageFilter\n",
        "import numpy as np\n",
        "from scipy import ndimage\n",
        "from torchvision import datasets, transforms\n",
        "import torch\n",
        "import pandas as pd\n",
        "import matplotlib.pyplot as plt\n",
        "import torchvision\n",
        "import torch.nn as nn\n",
        "import torch.nn.functional as F\n",
        "import torch.optim as optim\n",
        "# from google.colab import files"
      ]
    },
    {
      "cell_type": "code",
      "execution_count": 34,
      "metadata": {
        "colab": {
          "base_uri": "https://localhost:8080/",
          "height": 34
        },
        "id": "iRU5AIfmDa2t",
        "outputId": "e50240ef-d915-482e-a896-62179475c7cf"
      },
      "outputs": [
        {
          "name": "stdout",
          "output_type": "stream",
          "text": [
            "cpu\n"
          ]
        }
      ],
      "source": [
        "device = torch.device(\"cuda:0\" if torch.cuda.is_available() else \"cpu\")\n",
        "print(device)"
      ]
    },
    {
      "cell_type": "code",
      "execution_count": 3,
      "metadata": {
        "id": "wbRgPKvMDbhM"
      },
      "outputs": [],
      "source": [
        "class Process(object):\n",
        "    def __call__(self, img):\n",
        "        converted = img.convert(\"L\")\n",
        "        inverted = ImageOps.invert(converted)\n",
        "        thick = inverted.filter(ImageFilter.MaxFilter(5))\n",
        "        ratio = 48.0 / max(thick.size)\n",
        "        new_size = tuple([int(round(x*ratio)) for x in thick.size])\n",
        "        res = thick.resize(new_size, Image.LANCZOS)\n",
        "        \n",
        "        arr = np.asarray(res)\n",
        "        com = ndimage.measurements.center_of_mass(arr)\n",
        "        result = Image.new(\"L\", (64, 64))\n",
        "        box = (int(round(32.0 - com[1])), int(round(32.0 - com[0])))\n",
        "        result.paste(res, box)\n",
        "        return result"
      ]
    },
    {
      "cell_type": "code",
      "execution_count": 20,
      "metadata": {
        "colab": {
          "base_uri": "https://localhost:8080/",
          "height": 85
        },
        "id": "txqH1qVtDdgO",
        "outputId": "cb01538f-c146-43d0-c77d-3fb366269d15"
      },
      "outputs": [
        {
          "name": "stdout",
          "output_type": "stream",
          "text": [
            "50683\n",
            "40546\n",
            "10137\n",
            "26926\n"
          ]
        }
      ],
      "source": [
        "transform = transforms.Compose([Process(), transforms.ToTensor(), transforms.Normalize((0.5), (0.5))])\n",
        "train_dir = '.\\\\data\\\\processed\\\\train'\n",
        "test_dir = '.\\\\data\\\\processed\\\\test'\n",
        "\n",
        "training_set = datasets.ImageFolder(train_dir, transform)\n",
        "print(len(training_set))\n",
        "trainsize = int(round(0.8 * len(training_set)))\n",
        "trainset, valset = torch.utils.data.random_split(training_set, [trainsize, len(training_set) - trainsize], generator=torch.Generator().manual_seed(42))\n",
        "print(len(trainset))\n",
        "print(len(valset))\n",
        "testset = datasets.ImageFolder(test_dir, transform)\n",
        "print(len(testset))\n",
        "trainloader = torch.utils.data.DataLoader(trainset, batch_size=64, shuffle=True)\n",
        "valloader = torch.utils.data.DataLoader(valset, batch_size=64, shuffle=True)\n",
        "testloader = torch.utils.data.DataLoader(testset, batch_size=64, shuffle=True)"
      ]
    },
    {
      "cell_type": "code",
      "execution_count": 30,
      "metadata": {
        "colab": {
          "base_uri": "https://localhost:8080/",
          "height": 54
        },
        "id": "av32cfj5DhQw",
        "outputId": "7822e5b2-8f0c-4c66-a2df-e6a812311d4d"
      },
      "outputs": [
        {
          "name": "stdout",
          "output_type": "stream",
          "text": [
            "['அ', 'ஆ', 'ஓ', 'ஙூ', 'சூ', 'ஞூ', 'டூ', 'ணூ', 'தூ', 'நூ', 'பூ', 'மூ', 'யூ', 'ஃ', 'ரூ', 'லூ', 'வூ', 'ழூ', 'ளூ', 'றூ', 'னூ', 'ா', 'ெ', 'ே', 'க', 'ை', 'ஸ்ரீ', 'ஸு', 'ஷு', 'ஜு', 'ஹு', 'க்ஷு', 'ஸூ', 'ஷூ', 'ஜூ', 'ங', 'ஹூ', 'க்ஷூ', 'க்', 'ங்', 'ச்', 'ஞ்', 'ட்', 'ண்', 'த்', 'ந்', 'ச', 'ப்', 'ம்', 'ய்', 'ர்', 'ல்', 'வ்', 'ழ்', 'ள்', 'ற்', 'ன்', 'ஞ', 'ஸ்', 'ஷ்', 'ஜ்', 'ஹ்', 'க்ஷ்', 'ஔ', 'ட', 'ண', 'த', 'ந', 'இ', 'ப', 'ம', 'ய', 'ர', 'ல', 'வ', 'ழ', 'ள', 'ற', 'ன', 'ஈ', 'ஸ', 'ஷ', 'ஜ', 'ஹ', 'க்ஷ', 'கி', 'ஙி', 'சி', 'ஞி', 'டி', 'உ', 'ணி', 'தி', 'நி', 'பி', 'மி', 'யி', 'ரி', 'லி', 'வி', 'ழி', 'ஊ', 'ளி', 'றி', 'னி', 'ஸி', 'ஷி', 'ஜி', 'ஹி', 'க்ஷி', 'கீ', 'ஙீ', 'எ', 'சீ', 'ஞீ', 'டீ', 'ணீ', 'தீ', 'நீ', 'பீ', 'மீ', 'யீ', 'ரீ', 'ஏ', 'லீ', 'வீ', 'ழீ', 'ளீ', 'றீ', 'னீ', 'ஸீ', 'ஷீ', 'ஜீ', 'ஹீ', 'ஐ', 'க்ஷீ', 'கு', 'ஙு', 'சு', 'ஞு', 'டு', 'ணு', 'து', 'நு', 'பு', 'ஒ', 'மு', 'யு', 'ரு', 'லு', 'வு', 'ழு', 'ளு', 'று', 'னு', 'கூ']\n"
          ]
        }
      ],
      "source": [
        "df = pd.read_csv('.\\\\data\\\\TamilChar.csv', header=0)\n",
        "unicode_list = df[\"Unicode\"].tolist()\n",
        "char_list = []\n",
        "\n",
        "for element in unicode_list:\n",
        "    code_list = element.split()\n",
        "    chars_together = \"\"\n",
        "    for code in code_list:\n",
        "        hex_str = \"0x\" + code\n",
        "        char_int = int(hex_str, 16)\n",
        "        character = chr(char_int)\n",
        "        chars_together += character\n",
        "    char_list.append(chars_together)\n",
        "\n",
        "classes = []\n",
        "for i in range(156):\n",
        "    index = int(testset.classes[i])\n",
        "    char = char_list[index]\n",
        "    classes.append(char)\n",
        "\n",
        "print(classes)"
      ]
    },
    {
      "cell_type": "code",
      "execution_count": 31,
      "metadata": {
        "colab": {
          "base_uri": "https://localhost:8080/",
          "height": 154
        },
        "id": "IXrxsJYBDkRn",
        "outputId": "be42de83-61c5-4820-d708-a1ca8dfd99db"
      },
      "outputs": [
        {
          "name": "stderr",
          "output_type": "stream",
          "text": [
            "C:\\Users\\DELL\\AppData\\Local\\Temp\\ipykernel_17600\\3581622984.py:11: DeprecationWarning: Please use `center_of_mass` from the `scipy.ndimage` namespace, the `scipy.ndimage.measurements` namespace is deprecated.\n",
            "  com = ndimage.measurements.center_of_mass(arr)\n"
          ]
        },
        {
          "data": {
            "image/png": "[encoded data removed]",
            "text/plain": [
              "<Figure size 640x480 with 1 Axes>"
            ]
          },
          "metadata": {},
          "output_type": "display_data"
        },
        {
          "name": "stdout",
          "output_type": "stream",
          "text": [
            "    அ     ய     அ    ளீ\n"
          ]
        }
      ],
      "source": [
        "def imshow(img):\n",
        "    img = img / 2 + 0.5\n",
        "    npimg = img.numpy()\n",
        "    plt.imshow(np.transpose(npimg, (1, 2, 0)))\n",
        "    plt.show()\n",
        "\n",
        "\n",
        "dataiter = iter(trainloader)\n",
        "images, labels = next(dataiter)\n",
        "\n",
        "imshow(torchvision.utils.make_grid(images[:4]))\n",
        "print(' '.join('%5s' % classes[labels[j]] for j in range(4)))"
      ]
    },
    {
      "cell_type": "code",
      "execution_count": 32,
      "metadata": {
        "id": "NkkQLAN3DlkH"
      },
      "outputs": [],
      "source": [
        "def initialize_weights(m):\n",
        "    if isinstance(m, nn.Conv2d) or isinstance(m, nn.Linear):\n",
        "        nn.init.kaiming_normal_(m.weight)\n",
        "        nn.init.zeros_(m.bias)"
      ]
    },
    {
      "cell_type": "code",
      "execution_count": 35,
      "metadata": {
        "colab": {
          "base_uri": "https://localhost:8080/",
          "height": 357
        },
        "id": "hpcbQzNWDl82",
        "outputId": "06474202-f6f8-42e4-cae6-5a5a8fcb2679"
      },
      "outputs": [
        {
          "data": {
            "text/plain": [
              "Net(\n",
              "  (conv1): Conv2d(1, 16, kernel_size=(3, 3), stride=(1, 1), padding=(1, 1))\n",
              "  (bn1): BatchNorm2d(16, eps=1e-05, momentum=0.1, affine=True, track_running_stats=True)\n",
              "  (conv2): Conv2d(16, 16, kernel_size=(3, 3), stride=(1, 1), padding=(1, 1))\n",
              "  (bn2): BatchNorm2d(16, eps=1e-05, momentum=0.1, affine=True, track_running_stats=True)\n",
              "  (pool1): MaxPool2d(kernel_size=2, stride=2, padding=0, dilation=1, ceil_mode=False)\n",
              "  (conv3): Conv2d(16, 32, kernel_size=(3, 3), stride=(1, 1), padding=(1, 1))\n",
              "  (bn3): BatchNorm2d(32, eps=1e-05, momentum=0.1, affine=True, track_running_stats=True)\n",
              "  (conv4): Conv2d(32, 32, kernel_size=(3, 3), stride=(1, 1), padding=(1, 1))\n",
              "  (bn4): BatchNorm2d(32, eps=1e-05, momentum=0.1, affine=True, track_running_stats=True)\n",
              "  (conv5): Conv2d(32, 64, kernel_size=(3, 3), stride=(1, 1), padding=(1, 1))\n",
              "  (bn5): BatchNorm2d(64, eps=1e-05, momentum=0.1, affine=True, track_running_stats=True)\n",
              "  (conv6): Conv2d(64, 64, kernel_size=(3, 3), stride=(1, 1), padding=(1, 1))\n",
              "  (bn6): BatchNorm2d(64, eps=1e-05, momentum=0.1, affine=True, track_running_stats=True)\n",
              "  (fc1): Linear(in_features=4096, out_features=1024, bias=True)\n",
              "  (bn7): BatchNorm1d(1024, eps=1e-05, momentum=0.1, affine=True, track_running_stats=True)\n",
              "  (fc2): Linear(in_features=1024, out_features=512, bias=True)\n",
              "  (bn8): BatchNorm1d(512, eps=1e-05, momentum=0.1, affine=True, track_running_stats=True)\n",
              "  (fc3): Linear(in_features=512, out_features=156, bias=True)\n",
              ")"
            ]
          },
          "execution_count": 35,
          "metadata": {},
          "output_type": "execute_result"
        }
      ],
      "source": [
        "class Net(nn.Module):\n",
        "    def __init__(self):\n",
        "        super(Net, self).__init__()\n",
        "        \n",
        "        self.conv1 = nn.Conv2d(1, 16, 3, padding=1)\n",
        "        self.bn1 = nn.BatchNorm2d(16)\n",
        "        self.conv2 = nn.Conv2d(16, 16, 3, padding=1)\n",
        "        self.bn2 = nn.BatchNorm2d(16)\n",
        "        self.pool1 = nn.MaxPool2d(2, 2)\n",
        "\n",
        "        self.conv3 = nn.Conv2d(16, 32, 3, padding=1)\n",
        "        self.bn3 = nn.BatchNorm2d(32)\n",
        "        self.conv4 = nn.Conv2d(32, 32, 3, padding=1)\n",
        "        self.bn4 = nn.BatchNorm2d(32)\n",
        "\n",
        "        self.conv5 = nn.Conv2d(32, 64, 3, padding=1)\n",
        "        self.bn5 = nn.BatchNorm2d(64)\n",
        "        self.conv6 = nn.Conv2d(64, 64, 3, padding=1)\n",
        "        self.bn6 = nn.BatchNorm2d(64)\n",
        "        \n",
        "        self.fc1 = nn.Linear(64 * 8 * 8, 1024)\n",
        "        self.bn7 = nn.BatchNorm1d(1024)\n",
        "        self.fc2 = nn.Linear(1024, 512)\n",
        "        self.bn8 = nn.BatchNorm1d(512)\n",
        "        self.fc3 = nn.Linear(512, 156)\n",
        "\n",
        "    def forward(self, x):\n",
        "        \n",
        "        x = F.relu(self.bn1(self.conv1(x)))\n",
        "        x = self.pool1(F.relu(self.bn2(self.conv2(x))))\n",
        "        \n",
        "        x = F.relu(self.bn3(self.conv3(x)))\n",
        "        x = self.pool1(F.relu(self.bn4(self.conv4(x))))\n",
        "        \n",
        "        x = F.relu(self.bn5(self.conv5(x)))\n",
        "        x = self.pool1(F.relu(self.bn6(self.conv6(x))))\n",
        "        \n",
        "        x = x.view(-1, 64 * 8 * 8)\n",
        "        x = F.relu(self.bn7(self.fc1(x)))\n",
        "        x = F.relu(self.bn8(self.fc2(x)))\n",
        "        x = self.fc3(x)\n",
        "        return x\n",
        "    \n",
        "net = Net()\n",
        "net.apply(initialize_weights)\n",
        "net.to(device)"
      ]
    },
    {
      "cell_type": "code",
      "execution_count": 36,
      "metadata": {
        "id": "ine_E5ISDp1E"
      },
      "outputs": [],
      "source": [
        "criterion = nn.CrossEntropyLoss()\n",
        "optimizer = optim.Adam(net.parameters(), weight_decay=0.003, lr=0.001)"
      ]
    },
    {
      "cell_type": "code",
      "execution_count": 37,
      "metadata": {
        "colab": {
          "base_uri": "https://localhost:8080/",
          "height": 1000
        },
        "id": "US4K8pFrDswc",
        "outputId": "db8da172-0e5c-4ffa-e2ad-cddfab9f317e"
      },
      "outputs": [
        {
          "name": "stderr",
          "output_type": "stream",
          "text": [
            "C:\\Users\\DELL\\AppData\\Local\\Temp\\ipykernel_17600\\3581622984.py:11: DeprecationWarning: Please use `center_of_mass` from the `scipy.ndimage` namespace, the `scipy.ndimage.measurements` namespace is deprecated.\n",
            "  com = ndimage.measurements.center_of_mass(arr)\n"
          ]
        },
        {
          "name": "stdout",
          "output_type": "stream",
          "text": [
            "[1,   100] loss: 2.491\n",
            "[1,   200] loss: 1.087\n",
            "[1,   300] loss: 0.783\n",
            "[1,   400] loss: 0.635\n",
            "[1,   500] loss: 0.574\n",
            "[1,   600] loss: 0.537\n",
            "EPOCH 1\n",
            "Training loss: 0.9926725031092013\n",
            "Training accuracy: 74.92724313125832%\n",
            "Validation loss: 0.5567040399673882\n",
            "Validation accuracy: 85.67623557265463%\n",
            "----------------------------------------------------\n",
            "[2,   100] loss: 0.429\n",
            "[2,   200] loss: 0.457\n",
            "[2,   300] loss: 0.480\n",
            "[2,   400] loss: 0.452\n",
            "[2,   500] loss: 0.442\n",
            "[2,   600] loss: 0.437\n",
            "EPOCH 2\n",
            "Training loss: 0.45154789476926693\n",
            "Training accuracy: 88.8127065555172%\n",
            "Validation loss: 0.44902092330705323\n",
            "Validation accuracy: 89.5531222255105%\n",
            "----------------------------------------------------\n",
            "[3,   100] loss: 0.379\n"
          ]
        }
      ],
      "source": [
        "x = []\n",
        "train_loss = []\n",
        "val_loss = []\n",
        "train_accuracy = []\n",
        "val_accuracy = []\n",
        "fig, axs = plt.subplots(3)\n",
        "\n",
        "x_two = []\n",
        "running_losses = []\n",
        "\n",
        "for epoch in range(1):\n",
        "    x.append(epoch)\n",
        "    \n",
        "    curr_train_loss = 0.0\n",
        "    train_total = 0\n",
        "    train_correct = 0\n",
        "    running_loss = 0.0\n",
        "    for i, data in enumerate(trainloader, 0):\n",
        "        inputs, labels = data[0].to(device), data[1].to(device)\n",
        "        optimizer.zero_grad()\n",
        "        \n",
        "        outputs = net(inputs)\n",
        "        _, predicted = torch.max(outputs.data, 1)\n",
        "        train_total += labels.size(0)\n",
        "        train_correct += (predicted == labels).sum().item()\n",
        "\n",
        "        loss = criterion(outputs, labels)\n",
        "        loss.backward()\n",
        "        optimizer.step()\n",
        "        curr_train_loss += loss.item()\n",
        "        \n",
        "        running_loss += loss.item()\n",
        "        if i % 100 == 99:\n",
        "            print('[%d, %5d] loss: %.3f' %\n",
        "                  (epoch + 1, i + 1, running_loss / 100))\n",
        "            running_losses.append(running_loss)\n",
        "            x_two.append(epoch + i * 64 / len(trainset))\n",
        "            running_loss = 0.0\n",
        "    \n",
        "    train_loss.append(curr_train_loss / len(trainset) * 64)\n",
        "    train_accuracy.append(100 * train_correct / train_total)\n",
        "    \n",
        "    val_correct = 0\n",
        "    val_total = 0\n",
        "    curr_val_loss = 0.0\n",
        "    with torch.no_grad():\n",
        "        for data in valloader:\n",
        "            images, labels = data[0].to(device), data[1].to(device)\n",
        "            outputs = net(images)\n",
        "            _, predicted = torch.max(outputs.data, 1)\n",
        "            val_total += labels.size(0)\n",
        "            val_correct += (predicted == labels).sum().item()\n",
        "            curr_val_loss += criterion(outputs, labels).item()\n",
        "    val_loss.append(curr_val_loss / len(valset) * 64)\n",
        "    val_accuracy.append(100 * val_correct / val_total)\n",
        "    \n",
        "    print('EPOCH ' + str(epoch + 1))\n",
        "    print('Training loss: ' + str(train_loss[-1]))\n",
        "    print('Training accuracy: ' + str(train_accuracy[-1]) + \"%\")\n",
        "    print('Validation loss: ' + str(val_loss[-1]))\n",
        "    print('Validation accuracy: ' + str(val_accuracy[-1]) + \"%\")\n",
        "    print('----------------------------------------------------')\n",
        "\n",
        "    \n",
        "    axs[0].plot(x, train_loss, 'r-', val_loss, 'b-')\n",
        "    axs[1].plot(x, train_accuracy, 'r-', val_accuracy, 'b-')\n",
        "    axs[2].plot(x_two, running_losses)"
      ]
    },
    {
      "cell_type": "code",
      "execution_count": 12,
      "metadata": {
        "colab": {
          "base_uri": "https://localhost:8080/",
          "height": 154
        },
        "id": "5BR9A1uFDwjn",
        "outputId": "d0de611c-ebb4-4e2d-9493-23e1962fb993"
      },
      "outputs": [
        {
          "data": {
            "image/png": "[encoded data removed]",
            "text/plain": [
              "<Figure size 432x288 with 1 Axes>"
            ]
          },
          "metadata": {
            "needs_background": "light",
            "tags": []
          },
          "output_type": "display_data"
        },
        {
          "name": "stdout",
          "output_type": "stream",
          "text": [
            "GroundTruth:     ணூ    ஞ்    ம்    மீ\n"
          ]
        }
      ],
      "source": [
        "dataiter = iter(testloader)\n",
        "data_thing = dataiter.next()\n",
        "images, labels = data_thing[0].to(device), data_thing[1].to(device)\n",
        "\n",
        "imgs = images.cpu()\n",
        "imshow(torchvision.utils.make_grid(imgs[:4]))\n",
        "print('GroundTruth: ', ' '.join('%5s' % classes[labels[j]] for j in range(4)))"
      ]
    },
    {
      "cell_type": "code",
      "execution_count": 13,
      "metadata": {
        "colab": {
          "base_uri": "https://localhost:8080/",
          "height": 34
        },
        "id": "jaC8EGJBDxRG",
        "outputId": "29e9919d-5db5-4ea8-f831-215bcd094fea"
      },
      "outputs": [
        {
          "name": "stdout",
          "output_type": "stream",
          "text": [
            "Predicted:     னூ    பூ    ம்    மீ\n"
          ]
        }
      ],
      "source": [
        "outputs = net(images[:4])\n",
        "_, predicted = torch.max(outputs, 1)\n",
        "\n",
        "print('Predicted: ', ' '.join('%5s' % classes[predicted[j]]\n",
        "                              for j in range(4)))"
      ]
    },
    {
      "cell_type": "code",
      "execution_count": 14,
      "metadata": {
        "colab": {
          "base_uri": "https://localhost:8080/",
          "height": 34
        },
        "id": "aG9Gco5PDyd_",
        "outputId": "640cd2d3-d1d6-401a-94c8-93357e061753"
      },
      "outputs": [
        {
          "name": "stdout",
          "output_type": "stream",
          "text": [
            "Accuracy of the network on the 10000 test images: 90.655872 %\n"
          ]
        }
      ],
      "source": [
        "correct = 0\n",
        "total = 0\n",
        "with torch.no_grad():\n",
        "    for data in testloader:\n",
        "        images, labels = data[0].to(device), data[1].to(device)\n",
        "        outputs = net(images)\n",
        "        _, predicted = torch.max(outputs.data, 1)\n",
        "        total += labels.size(0)\n",
        "        correct += (predicted == labels).sum().item()\n",
        "\n",
        "print('Accuracy of the network on the 10000 test images: %f %%' % (100 * correct / total))"
      ]
    },
    {
      "cell_type": "code",
      "execution_count": 15,
      "metadata": {
        "colab": {
          "base_uri": "https://localhost:8080/",
          "height": 17
        },
        "id": "j5eSTfu_D3d1",
        "outputId": "c262adc5-52f9-47d0-e70e-66b507549eed"
      },
      "outputs": [
        {
          "data": {
            "application/javascript": "\n    async function download(id, filename, size) {\n      if (!google.colab.kernel.accessAllowed) {\n        return;\n      }\n      const div = document.createElement('div');\n      const label = document.createElement('label');\n      label.textContent = `Downloading \"${filename}\": `;\n      div.appendChild(label);\n      const progress = document.createElement('progress');\n      progress.max = size;\n      div.appendChild(progress);\n      document.body.appendChild(div);\n\n      const buffers = [];\n      let downloaded = 0;\n\n      const channel = await google.colab.kernel.comms.open(id);\n      // Send a message to notify the kernel that we're ready.\n      channel.send({})\n\n      for await (const message of channel.messages) {\n        // Send a message to notify the kernel that we're ready.\n        channel.send({})\n        if (message.buffers) {\n          for (const buffer of message.buffers) {\n            buffers.push(buffer);\n            downloaded += buffer.byteLength;\n            progress.value = downloaded;\n          }\n        }\n      }\n      const blob = new Blob(buffers, {type: 'application/binary'});\n      const a = document.createElement('a');\n      a.href = window.URL.createObjectURL(blob);\n      a.download = filename;\n      div.appendChild(a);\n      a.click();\n      div.remove();\n    }\n  ",
            "text/plain": [
              "<IPython.core.display.Javascript object>"
            ]
          },
          "metadata": {
            "tags": []
          },
          "output_type": "display_data"
        },
        {
          "data": {
            "application/javascript": "download(\"download_fc8aa2b4-1a1b-4467-9f7d-c222743c4037\", \"tamil_net.pt\", 19534360)",
            "text/plain": [
              "<IPython.core.display.Javascript object>"
            ]
          },
          "metadata": {
            "tags": []
          },
          "output_type": "display_data"
        }
      ],
      "source": [
        "torch.save(net.state_dict(), 'tamil_net.pt')\n",
        "files.download('tamil_net.pt')"
      ]
    }
  ],
  "metadata": {
    "accelerator": "GPU",
    "colab": {
      "collapsed_sections": [],
      "name": "TamilNet.ipynb",
      "provenance": []
    },
    "kernelspec": {
      "display_name": "Python 3",
      "name": "python3"
    },
    "language_info": {
      "codemirror_mode": {
        "name": "ipython",
        "version": 3
      },
      "file_extension": ".py",
      "mimetype": "text/x-python",
      "name": "python",
      "nbconvert_exporter": "python",
      "pygments_lexer": "ipython3",
      "version": "3.8.6"
    }
  },
  "nbformat": 4,
  "nbformat_minor": 0
}
